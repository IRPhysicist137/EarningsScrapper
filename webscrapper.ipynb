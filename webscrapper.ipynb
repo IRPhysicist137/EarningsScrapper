{
 "cells": [
  {
   "cell_type": "code",
   "execution_count": null,
   "metadata": {},
   "outputs": [],
   "source": [
    "import requests\n",
    "import urllib\n",
    "import multiprocessing as mp\n",
    "import numpy as np\n",
    "import pandas as pd\n",
    "from datetime import datetime, timedelta,date\n",
    "from dateutil.relativedelta import relativedelta\n",
    "from IPython.core.display import display, HTML\n",
    "display(HTML(\"<style>.container { width:90% !important; }</style>\"))\n",
    "pd.set_option('display.max_rows', None)"
   ]
  },
  {
   "cell_type": "code",
   "execution_count": null,
   "metadata": {},
   "outputs": [],
   "source": [
    "date_after_week = datetime.today()+ relativedelta(weeks=1)\n",
    "end_of_week = '2020-'+'0'+str(date_after_week.month)+'-'+str(date_after_week.day - 1)\n",
    "beginning_of_week = datetime.today().strftime('%Y-%m-%d')\n",
    "day = datetime.today()\n",
    "stocks_reporting = []\n",
    "for i in range(1,5):\n",
    "    yahoo_earnings = r'https://finance.yahoo.com/calendar/earnings?from='+beginning_of_week+'&to='+end_of_week+'&day=2020-07-'+str(day.day+i)\n",
    "    #print(yahoo_earnings)\n",
    "    html = requests.get(yahoo_earnings).content\n",
    "    df_list = pd.read_html(html)[0]\n",
    "    stocks_reporting.append(df_list)"
   ]
  },
  {
   "cell_type": "code",
   "execution_count": null,
   "metadata": {},
   "outputs": [],
   "source": [
    "stocks_reporting[0]"
   ]
  }
 ],
 "metadata": {
  "kernelspec": {
   "display_name": "Python 3",
   "language": "python",
   "name": "python3"
  },
  "language_info": {
   "codemirror_mode": {
    "name": "ipython",
    "version": 3
   },
   "file_extension": ".py",
   "mimetype": "text/x-python",
   "name": "python",
   "nbconvert_exporter": "python",
   "pygments_lexer": "ipython3",
   "version": "3.6.5"
  }
 },
 "nbformat": 4,
 "nbformat_minor": 2
}
